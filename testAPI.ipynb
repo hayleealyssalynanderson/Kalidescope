{
 "cells": [
  {
   "cell_type": "code",
   "execution_count": 1,
   "id": "6b0b3b1d",
   "metadata": {},
   "outputs": [],
   "source": [
    "import requests\n",
    "import json"
   ]
  },
  {
   "cell_type": "code",
   "execution_count": 2,
   "id": "d7ec2d6d",
   "metadata": {},
   "outputs": [],
   "source": [
    "url = \"http://127.0.0.1:8000/visualization\"\n",
    "\n",
    "\n",
    "payload = '{\"query\": \"open accounts each year\"}'\n",
    "r = requests.post(url, data=payload.encode(\"utf-8\"))"
   ]
  },
  {
   "cell_type": "code",
   "execution_count": 3,
   "id": "6d991138",
   "metadata": {},
   "outputs": [],
   "source": [
    "with open('new_chart.html', 'wb') as f:\n",
    "    f.write(r.content)"
   ]
  }
 ],
 "metadata": {
  "kernelspec": {
   "display_name": "Python 3 (ipykernel)",
   "language": "python",
   "name": "python3"
  },
  "language_info": {
   "codemirror_mode": {
    "name": "ipython",
    "version": 3
   },
   "file_extension": ".py",
   "mimetype": "text/x-python",
   "name": "python",
   "nbconvert_exporter": "python",
   "pygments_lexer": "ipython3",
   "version": "3.9.5"
  }
 },
 "nbformat": 4,
 "nbformat_minor": 5
}
